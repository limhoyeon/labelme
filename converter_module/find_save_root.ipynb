{
 "cells": [
  {
   "cell_type": "code",
   "execution_count": 20,
   "id": "e887f781",
   "metadata": {
    "scrolled": true
   },
   "outputs": [],
   "source": [
    "from Util.Counting_and_Detection import findRoot\n",
    "import cv2\n",
    "import torch\n",
    "from Model.pose_higher_hrnet import PoseHigherResolutionNet as get_model_HR\n",
    "from Detection_Torch.input_param import cfg\n",
    "from Detection_Torch.input_param import args as args\n",
    "from glob import glob\n",
    "import os\n",
    "import json\n",
    "import numpy as np\n",
    "from Util.Counting_and_Detection import predict_strand_num, computeSearchDist"
   ]
  },
  {
   "cell_type": "code",
   "execution_count": 21,
   "id": "a7fb58a7",
   "metadata": {},
   "outputs": [
    {
     "data": {
      "text/plain": [
       "<All keys matched successfully>"
      ]
     },
     "execution_count": 21,
     "metadata": {},
     "output_type": "execute_result"
    }
   ],
   "source": [
    "rootDetectionModel = get_model_HR(cfg).cuda()\n",
    "weights_dir = args.weights_dir_HRNet\n",
    "rootDetectionModel.load_state_dict(torch.load(weights_dir), strict=False) "
   ]
  },
  {
   "cell_type": "code",
   "execution_count": 22,
   "id": "5d1161cb",
   "metadata": {},
   "outputs": [],
   "source": [
    "IMG_FORMAT = \".jpg\"\n",
    "IMG_FOLDER = \"data\"\n",
    "\n",
    "AUGMENT_DATA = True\n",
    "\n",
    "HEIGHT=480\n",
    "WIDTH=640"
   ]
  },
  {
   "cell_type": "code",
   "execution_count": 23,
   "id": "df11a2c4",
   "metadata": {},
   "outputs": [],
   "source": [
    "def nms(cur_img_dot_list):\n",
    "    shape=[480,640]\n",
    "    cur_target_pt = np.array(cur_img_dot_list,dtype=\"float32\")\n",
    "    sizeY, sizeX = shape\n",
    "    _, cur_target_pt, _, _, _ = computeSearchDist(cur_target_pt, sizeY, sizeX)\n",
    "    cur_target_pt = cur_target_pt[:, :2]\n",
    "    cur_img_dot_list = cur_target_pt.astype(int).tolist()\n",
    "    return cur_img_dot_list"
   ]
  },
  {
   "cell_type": "code",
   "execution_count": 24,
   "id": "77d1ec50",
   "metadata": {},
   "outputs": [],
   "source": [
    "dir_list = glob(os.path.join(IMG_FOLDER,\"*\"))"
   ]
  },
  {
   "cell_type": "code",
   "execution_count": 25,
   "id": "34929f12",
   "metadata": {},
   "outputs": [
    {
     "data": {
      "text/plain": [
       "['data\\\\1', 'data\\\\11', 'data\\\\12']"
      ]
     },
     "execution_count": 25,
     "metadata": {},
     "output_type": "execute_result"
    }
   ],
   "source": [
    "dir_list"
   ]
  },
  {
   "cell_type": "code",
   "execution_count": 27,
   "id": "ddb872f6",
   "metadata": {},
   "outputs": [],
   "source": [
    "for series_path in dir_list:\n",
    "    series_id = os.path.basename(series_path)  \n",
    "    img_path_list = glob(os.path.join(series_path,\"*\"+IMG_FORMAT))\n",
    "    img_path_list = sorted(img_path_list)\n",
    "    for i, img_path in enumerate(img_path_list):\n",
    "        \n",
    "        if AUGMENT_DATA:\n",
    "            if(i%2==1 and i!=len(img_path_list)-1):\n",
    "                continue\n",
    "            \n",
    "        dot_json_name = os.path.basename(img_path).replace(IMG_FORMAT, \".json\")\n",
    "        dot_json_path = os.path.join(os.getcwd(),IMG_FOLDER, series_id, dot_json_name)\n",
    "        img = cv2.imread(img_path)\n",
    "        dot_list = nms(findRoot(img, rootDetectionModel, ADDITIONAL_IMG = False))\n",
    "        \n",
    "        shape_arr = []\n",
    "        for point in dot_list:\n",
    "            shape_dict = {\n",
    "                \"label\": \"-1\",\n",
    "                \"points\": [[int(point[0]),int(point[1])]],\n",
    "                \"group_id\": None,\n",
    "                \"shape_type\": \"point\",\n",
    "                \"flags\": {}\n",
    "            }\n",
    "            shape_arr.append(shape_dict)\n",
    "        \n",
    "        result_dict = {\n",
    "            \"version\": \"4.5.9\",\n",
    "            \"flags\": {},\n",
    "            \"shapes\": shape_arr,\n",
    "            \"imagePath\": os.path.basename(img_path),\n",
    "            \"imageData\": None,\n",
    "            \"imageHeight\": HEIGHT,\n",
    "            \"imageWidth\": WIDTH\n",
    "        }\n",
    "        \n",
    "        if(os.path.exists(dot_json_path)):\n",
    "            continue\n",
    "        else:\n",
    "            with open(dot_json_path, 'w') as f:\n",
    "                json.dump(result_dict, f, indent=4)"
   ]
  },
  {
   "cell_type": "code",
   "execution_count": null,
   "id": "69d0dbf8",
   "metadata": {},
   "outputs": [],
   "source": []
  },
  {
   "cell_type": "code",
   "execution_count": null,
   "id": "d80af5e5",
   "metadata": {},
   "outputs": [],
   "source": []
  }
 ],
 "metadata": {
  "kernelspec": {
   "display_name": "Python 3",
   "language": "python",
   "name": "python3"
  },
  "language_info": {
   "codemirror_mode": {
    "name": "ipython",
    "version": 3
   },
   "file_extension": ".py",
   "mimetype": "text/x-python",
   "name": "python",
   "nbconvert_exporter": "python",
   "pygments_lexer": "ipython3",
   "version": "3.6.13"
  }
 },
 "nbformat": 4,
 "nbformat_minor": 5
}
